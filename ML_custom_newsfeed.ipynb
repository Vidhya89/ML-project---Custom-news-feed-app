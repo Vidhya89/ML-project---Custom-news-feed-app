{
 "cells": [
  {
   "cell_type": "code",
   "execution_count": 1,
   "id": "314edec3",
   "metadata": {},
   "outputs": [],
   "source": [
    "import numpy as np\n",
    "import pandas as pd\n",
    "import requests\n",
    "import json\n",
    "import os"
   ]
  },
  {
   "cell_type": "code",
   "execution_count": 4,
   "id": "8b2cf420",
   "metadata": {},
   "outputs": [],
   "source": [
    "pd.set_option('display.max_colwidth', 200)\n",
    "\n",
    "# Get Pocket API Key:\n",
    "def get_API_KEY(pocket_API_key):\n",
    "    currentDirectory = os.getcwd()\n",
    "    path_to_API_KEY = currentDirectory + '/' + pocket_API_key\n",
    "    API_KEY_file = open(path_to_API_KEY)\n",
    "    \n",
    "    API_KEY = []\n",
    "    for i in API_KEY_file:\n",
    "        API_KEY.append(i)\n",
    "    \n",
    "    return str(API_KEY[0])"
   ]
  },
  {
   "cell_type": "code",
   "execution_count": 6,
   "id": "15425e58",
   "metadata": {},
   "outputs": [
    {
     "name": "stdout",
     "output_type": "stream",
     "text": [
      "99707-e5d1302f56f2b5f39fd1ff36\n"
     ]
    }
   ],
   "source": [
    "pocket_API_key = get_API_KEY('pocket_API_key.txt')\n",
    "print(pocket_API_key)"
   ]
  },
  {
   "cell_type": "code",
   "execution_count": 7,
   "id": "9a3e1450",
   "metadata": {},
   "outputs": [],
   "source": [
    "# Get Redirect URL from text file:\n",
    "def get_REDIRECT_URL(TwitterAccount):\n",
    "    currentDirectory = os.getcwd()\n",
    "    RURL_path = currentDirectory + '/' + TwitterAccount\n",
    "    URL_file = open(RURL_path)\n",
    "    \n",
    "    RedirectURL = []\n",
    "    for i in URL_file:\n",
    "        RedirectURL.append(i)\n",
    "    \n",
    "    return str(RedirectURL[0])"
   ]
  },
  {
   "cell_type": "code",
   "execution_count": 8,
   "id": "1380ee0d",
   "metadata": {},
   "outputs": [],
   "source": [
    "Redirect_URL_key = get_REDIRECT_URL('TwitterAccount.txt')\n",
    "# print(Redirect_URL_key)"
   ]
  },
  {
   "cell_type": "code",
   "execution_count": 9,
   "id": "e0ac0109",
   "metadata": {},
   "outputs": [
    {
     "name": "stdout",
     "output_type": "stream",
     "text": [
      "Access code is: \n",
      "code=144237a7-f46b-a2e9-3964-eaab33\n"
     ]
    }
   ],
   "source": [
    "# Authentication Parameters:\n",
    "auth_params = {'consumer_key': pocket_API_key, 'redirect_uri': Redirect_URL_key}\n",
    "\n",
    "token = requests.post('https://getpocket.com/v3/oauth/request', data = auth_params)\n",
    "\n",
    "print('Access code is: ')\n",
    "print(token.text)"
   ]
  },
  {
   "cell_type": "code",
   "execution_count": 12,
   "id": "5b3704c1",
   "metadata": {},
   "outputs": [
    {
     "name": "stdout",
     "output_type": "stream",
     "text": [
      "Copy the following link and authorise: \n",
      "https://getpocket.com/auth/authorize?request_token=144237a7-f46b-a2e9-3964-eaab33&redirect_uri=https%3A//witter.com/vidhya466860832\n"
     ]
    }
   ],
   "source": [
    "# Generate the new output link:\n",
    "auth_Link = 'https://getpocket.com/auth/authorize?request_token=' + token.text.strip('code=') + '&redirect_uri=https%3A//' + Redirect_URL_key.strip('https://')\n",
    "\n",
    "print('Copy the following link and authorise: ')\n",
    "print(auth_Link)"
   ]
  },
  {
   "cell_type": "code",
   "execution_count": 13,
   "id": "6f0e87a4",
   "metadata": {},
   "outputs": [
    {
     "name": "stdout",
     "output_type": "stream",
     "text": [
      "User code is: \n",
      "access_token=9c64dcd7-5c9b-130a-5778-865fb1&username=sujimithila16%40gmail.com\n"
     ]
    }
   ],
   "source": [
    "# Parsing out the access vode from token.text string;\n",
    "access_code = token.text.split('=')[1]\n",
    "\n",
    "user_params = {'consumer_key': pocket_API_key, 'code': access_code}\n",
    "\n",
    "user = requests.post('https://getpocket.com/v3/oauth/authorize', data = user_params)\n",
    "\n",
    "print('User code is: ')\n",
    "print(user.text)"
   ]
  },
  {
   "cell_type": "code",
   "execution_count": 14,
   "id": "fa4a0769",
   "metadata": {},
   "outputs": [
    {
     "data": {
      "text/plain": [
       "'9c64dcd7-5c9b-130a-5778-865fb1'"
      ]
     },
     "execution_count": 14,
     "metadata": {},
     "output_type": "execute_result"
    }
   ],
   "source": [
    "# Parsing out the access token from the 'user.text' string:\n",
    "access_token = user.text.split('=')[1].split('&username')[0]\n",
    "\n",
    "access_token"
   ]
  },
  {
   "cell_type": "code",
   "execution_count": 15,
   "id": "9f2e18dc",
   "metadata": {},
   "outputs": [
    {
     "data": {
      "text/plain": [
       "'{\"status\":1,\"complete\":1,\"list\":{\"1495089268\":{\"item_id\":\"1495089268\",\"resolved_id\":\"1495089268\",\"given_url\":\"https:\\\\/\\\\/medlineplus.gov\\\\/ency\\\\/article\\\\/003211.htm\",\"given_title\":\"Stress and your health: MedlinePlus Medical Encyclopedia\",\"favorite\":\"0\",\"status\":\"0\",\"time_added\":\"1637422426\",\"time_updated\":\"1637422433\",\"time_read\":\"0\",\"time_favorited\":\"0\",\"sort_id\":0,\"resolved_title\":\"Stress and your health\",\"resolved_url\":\"https:\\\\/\\\\/medlineplus.gov\\\\/ency\\\\/article\\\\/003211.htm\",\"excerpt\":\"Stress is a normal feeling. There are two main types of stress: Your body reacts to stress by releasing hormones. These hormones make your brain more alert, cause your muscles to tense, and increase your pulse.\",\"is_article\":\"1\",\"is_index\":\"0\",\"has_video\":\"0\",\"has_image\":\"0\",\"word_count\":\"312\",\"lang\":\"en\",\"top_image_url\":\"https:\\\\/\\\\/medlineplus.gov\\\\/images\\\\/share_ency_1.jpg\",\"listen_duration_estimate\":121}},\"error\":null,\"search_meta\":{\"search_type\":\"normal\"},\"since\":1638979137}'"
      ]
     },
     "execution_count": 15,
     "metadata": {},
     "output_type": "execute_result"
    }
   ],
   "source": [
    "no_articles_params = {'consumer_key': pocket_API_key, 'access_token': access_token, 'tag': 'n'}\n",
    "\n",
    "no_articles_result = requests.post('https://getpocket.com/v3/get', data = no_articles_params)\n",
    "\n",
    "no_articles_result.text"
   ]
  },
  {
   "cell_type": "code",
   "execution_count": 16,
   "id": "f54c34eb",
   "metadata": {},
   "outputs": [],
   "source": [
    "no_articles_jf = json.loads(no_articles_result.text)\n",
    "no_articles_jd = no_articles_jf['list']"
   ]
  },
  {
   "cell_type": "code",
   "execution_count": 17,
   "id": "a07768f1",
   "metadata": {},
   "outputs": [
    {
     "data": {
      "text/plain": [
       "{'1495089268': {'item_id': '1495089268',\n",
       "  'resolved_id': '1495089268',\n",
       "  'given_url': 'https://medlineplus.gov/ency/article/003211.htm',\n",
       "  'given_title': 'Stress and your health: MedlinePlus Medical Encyclopedia',\n",
       "  'favorite': '0',\n",
       "  'status': '0',\n",
       "  'time_added': '1637422426',\n",
       "  'time_updated': '1637422433',\n",
       "  'time_read': '0',\n",
       "  'time_favorited': '0',\n",
       "  'sort_id': 0,\n",
       "  'resolved_title': 'Stress and your health',\n",
       "  'resolved_url': 'https://medlineplus.gov/ency/article/003211.htm',\n",
       "  'excerpt': 'Stress is a normal feeling. There are two main types of stress: Your body reacts to stress by releasing hormones. These hormones make your brain more alert, cause your muscles to tense, and increase your pulse.',\n",
       "  'is_article': '1',\n",
       "  'is_index': '0',\n",
       "  'has_video': '0',\n",
       "  'has_image': '0',\n",
       "  'word_count': '312',\n",
       "  'lang': 'en',\n",
       "  'top_image_url': 'https://medlineplus.gov/images/share_ency_1.jpg',\n",
       "  'listen_duration_estimate': 121}}"
      ]
     },
     "execution_count": 17,
     "metadata": {},
     "output_type": "execute_result"
    }
   ],
   "source": [
    "# Inspect:\n",
    "no_articles_jd"
   ]
  },
  {
   "cell_type": "code",
   "execution_count": 18,
   "id": "c7ff5d8d",
   "metadata": {},
   "outputs": [
    {
     "data": {
      "text/plain": [
       "['https://medlineplus.gov/ency/article/003211.htm']"
      ]
     },
     "execution_count": 18,
     "metadata": {},
     "output_type": "execute_result"
    }
   ],
   "source": [
    "no_articles_URL = []\n",
    "for i in no_articles_jd.values():\n",
    "    url_dat = i.get('resolved_url')\n",
    "    no_articles_URL.append(url_dat)\n",
    "\n",
    "no_articles_URL  \n"
   ]
  },
  {
   "cell_type": "code",
   "execution_count": 19,
   "id": "1b0efd60",
   "metadata": {},
   "outputs": [
    {
     "data": {
      "text/html": [
       "<div>\n",
       "<style scoped>\n",
       "    .dataframe tbody tr th:only-of-type {\n",
       "        vertical-align: middle;\n",
       "    }\n",
       "\n",
       "    .dataframe tbody tr th {\n",
       "        vertical-align: top;\n",
       "    }\n",
       "\n",
       "    .dataframe thead th {\n",
       "        text-align: right;\n",
       "    }\n",
       "</style>\n",
       "<table border=\"1\" class=\"dataframe\">\n",
       "  <thead>\n",
       "    <tr style=\"text-align: right;\">\n",
       "      <th></th>\n",
       "      <th>urls</th>\n",
       "      <th>wanted</th>\n",
       "    </tr>\n",
       "  </thead>\n",
       "  <tbody>\n",
       "    <tr>\n",
       "      <th>0</th>\n",
       "      <td>https://medlineplus.gov/ency/article/003211.htm</td>\n",
       "      <td>n</td>\n",
       "    </tr>\n",
       "  </tbody>\n",
       "</table>\n",
       "</div>"
      ],
      "text/plain": [
       "                                              urls wanted\n",
       "0  https://medlineplus.gov/ency/article/003211.htm      n"
      ]
     },
     "execution_count": 19,
     "metadata": {},
     "output_type": "execute_result"
    }
   ],
   "source": [
    "no_URL_df = pd.DataFrame(no_articles_URL, columns = ['urls'])\n",
    "\n",
    "# Create new column called 'wanted':\n",
    "no_URL_df = no_URL_df.assign(wanted = lambda x: 'n')\n",
    "\n",
    "no_URL_df"
   ]
  },
  {
   "cell_type": "code",
   "execution_count": 20,
   "id": "81758033",
   "metadata": {},
   "outputs": [],
   "source": [
    "def get_articles(tag, pocket_API_key, access_token):\n",
    "    '''\n",
    "    Func -> Extract article data.\n",
    "    \n",
    "    params for this func.:\n",
    "    tag = 'y' or 'n'\n",
    "    '''\n",
    "    articles_params = {'consumer_key': pocket_API_key, 'access_token': access_token, 'tag': tag}\n",
    "    articles_result = requests.post('https://getpocket.com/v3/get', data = articles_params)\n",
    "    articles_jf = json.loads(articles_result.text)\n",
    "    articles_jd = articles_jf['list']\n",
    "    \n",
    "    articles_URL = []\n",
    "    for i in articles_jd.values():\n",
    "        url_dat = i.get('resolved_url')\n",
    "        articles_URL.append(url_dat)\n",
    "        \n",
    "    URL_df = pd.DataFrame(articles_URL, columns = ['urls'])\n",
    "    URL_df = URL_df.assign(wanted = lambda x: tag)\n",
    "    \n",
    "    return URL_df"
   ]
  },
  {
   "cell_type": "code",
   "execution_count": 21,
   "id": "8bbcd473",
   "metadata": {},
   "outputs": [],
   "source": [
    "yes_URL_df = get_articles('y', pocket_API_key, access_token)"
   ]
  },
  {
   "cell_type": "code",
   "execution_count": 22,
   "id": "51dea356",
   "metadata": {},
   "outputs": [
    {
     "data": {
      "text/html": [
       "<div>\n",
       "<style scoped>\n",
       "    .dataframe tbody tr th:only-of-type {\n",
       "        vertical-align: middle;\n",
       "    }\n",
       "\n",
       "    .dataframe tbody tr th {\n",
       "        vertical-align: top;\n",
       "    }\n",
       "\n",
       "    .dataframe thead th {\n",
       "        text-align: right;\n",
       "    }\n",
       "</style>\n",
       "<table border=\"1\" class=\"dataframe\">\n",
       "  <thead>\n",
       "    <tr style=\"text-align: right;\">\n",
       "      <th></th>\n",
       "      <th>urls</th>\n",
       "      <th>wanted</th>\n",
       "    </tr>\n",
       "  </thead>\n",
       "  <tbody>\n",
       "    <tr>\n",
       "      <th>0</th>\n",
       "      <td>https://www.psychologytoday.com/basics/spirituality</td>\n",
       "      <td>y</td>\n",
       "    </tr>\n",
       "    <tr>\n",
       "      <th>1</th>\n",
       "      <td>https://www.indeed.com/career-advice/career-development/improve-your-personal-development-skills</td>\n",
       "      <td>y</td>\n",
       "    </tr>\n",
       "    <tr>\n",
       "      <th>2</th>\n",
       "      <td>https://en.wikipedia.org/wiki/Education</td>\n",
       "      <td>y</td>\n",
       "    </tr>\n",
       "    <tr>\n",
       "      <th>3</th>\n",
       "      <td>https://www.keepinspiring.me/motivational-quotes/</td>\n",
       "      <td>y</td>\n",
       "    </tr>\n",
       "  </tbody>\n",
       "</table>\n",
       "</div>"
      ],
      "text/plain": [
       "                                                                                               urls  \\\n",
       "0                                               https://www.psychologytoday.com/basics/spirituality   \n",
       "1  https://www.indeed.com/career-advice/career-development/improve-your-personal-development-skills   \n",
       "2                                                           https://en.wikipedia.org/wiki/Education   \n",
       "3                                                 https://www.keepinspiring.me/motivational-quotes/   \n",
       "\n",
       "  wanted  \n",
       "0      y  \n",
       "1      y  \n",
       "2      y  \n",
       "3      y  "
      ]
     },
     "execution_count": 22,
     "metadata": {},
     "output_type": "execute_result"
    }
   ],
   "source": [
    "yes_URL_df.head()"
   ]
  },
  {
   "cell_type": "code",
   "execution_count": 23,
   "id": "1cba5c49",
   "metadata": {},
   "outputs": [],
   "source": [
    "articles_df = pd.concat([yes_URL_df, no_URL_df])\n",
    "articles_df.dropna(inplace = True)"
   ]
  },
  {
   "cell_type": "code",
   "execution_count": 24,
   "id": "0981d7cd",
   "metadata": {},
   "outputs": [
    {
     "data": {
      "text/html": [
       "<div>\n",
       "<style scoped>\n",
       "    .dataframe tbody tr th:only-of-type {\n",
       "        vertical-align: middle;\n",
       "    }\n",
       "\n",
       "    .dataframe tbody tr th {\n",
       "        vertical-align: top;\n",
       "    }\n",
       "\n",
       "    .dataframe thead th {\n",
       "        text-align: right;\n",
       "    }\n",
       "</style>\n",
       "<table border=\"1\" class=\"dataframe\">\n",
       "  <thead>\n",
       "    <tr style=\"text-align: right;\">\n",
       "      <th></th>\n",
       "      <th>urls</th>\n",
       "      <th>wanted</th>\n",
       "    </tr>\n",
       "  </thead>\n",
       "  <tbody>\n",
       "    <tr>\n",
       "      <th>0</th>\n",
       "      <td>https://www.psychologytoday.com/basics/spirituality</td>\n",
       "      <td>y</td>\n",
       "    </tr>\n",
       "    <tr>\n",
       "      <th>1</th>\n",
       "      <td>https://www.indeed.com/career-advice/career-development/improve-your-personal-development-skills</td>\n",
       "      <td>y</td>\n",
       "    </tr>\n",
       "    <tr>\n",
       "      <th>2</th>\n",
       "      <td>https://en.wikipedia.org/wiki/Education</td>\n",
       "      <td>y</td>\n",
       "    </tr>\n",
       "    <tr>\n",
       "      <th>3</th>\n",
       "      <td>https://www.keepinspiring.me/motivational-quotes/</td>\n",
       "      <td>y</td>\n",
       "    </tr>\n",
       "    <tr>\n",
       "      <th>0</th>\n",
       "      <td>https://medlineplus.gov/ency/article/003211.htm</td>\n",
       "      <td>n</td>\n",
       "    </tr>\n",
       "  </tbody>\n",
       "</table>\n",
       "</div>"
      ],
      "text/plain": [
       "                                                                                               urls  \\\n",
       "0                                               https://www.psychologytoday.com/basics/spirituality   \n",
       "1  https://www.indeed.com/career-advice/career-development/improve-your-personal-development-skills   \n",
       "2                                                           https://en.wikipedia.org/wiki/Education   \n",
       "3                                                 https://www.keepinspiring.me/motivational-quotes/   \n",
       "0                                                   https://medlineplus.gov/ency/article/003211.htm   \n",
       "\n",
       "  wanted  \n",
       "0      y  \n",
       "1      y  \n",
       "2      y  \n",
       "3      y  \n",
       "0      n  "
      ]
     },
     "execution_count": 24,
     "metadata": {},
     "output_type": "execute_result"
    }
   ],
   "source": [
    "articles_df"
   ]
  },
  {
   "cell_type": "code",
   "execution_count": 25,
   "id": "ae39a8d8",
   "metadata": {},
   "outputs": [
    {
     "data": {
      "text/html": [
       "<div>\n",
       "<style scoped>\n",
       "    .dataframe tbody tr th:only-of-type {\n",
       "        vertical-align: middle;\n",
       "    }\n",
       "\n",
       "    .dataframe tbody tr th {\n",
       "        vertical-align: top;\n",
       "    }\n",
       "\n",
       "    .dataframe thead th {\n",
       "        text-align: right;\n",
       "    }\n",
       "</style>\n",
       "<table border=\"1\" class=\"dataframe\">\n",
       "  <thead>\n",
       "    <tr style=\"text-align: right;\">\n",
       "      <th></th>\n",
       "      <th>index</th>\n",
       "      <th>urls</th>\n",
       "      <th>wanted</th>\n",
       "    </tr>\n",
       "  </thead>\n",
       "  <tbody>\n",
       "    <tr>\n",
       "      <th>0</th>\n",
       "      <td>0</td>\n",
       "      <td>https://www.psychologytoday.com/basics/spirituality</td>\n",
       "      <td>y</td>\n",
       "    </tr>\n",
       "    <tr>\n",
       "      <th>1</th>\n",
       "      <td>1</td>\n",
       "      <td>https://www.indeed.com/career-advice/career-development/improve-your-personal-development-skills</td>\n",
       "      <td>y</td>\n",
       "    </tr>\n",
       "    <tr>\n",
       "      <th>2</th>\n",
       "      <td>2</td>\n",
       "      <td>https://en.wikipedia.org/wiki/Education</td>\n",
       "      <td>y</td>\n",
       "    </tr>\n",
       "    <tr>\n",
       "      <th>3</th>\n",
       "      <td>3</td>\n",
       "      <td>https://www.keepinspiring.me/motivational-quotes/</td>\n",
       "      <td>y</td>\n",
       "    </tr>\n",
       "    <tr>\n",
       "      <th>4</th>\n",
       "      <td>0</td>\n",
       "      <td>https://medlineplus.gov/ency/article/003211.htm</td>\n",
       "      <td>n</td>\n",
       "    </tr>\n",
       "  </tbody>\n",
       "</table>\n",
       "</div>"
      ],
      "text/plain": [
       "   index  \\\n",
       "0      0   \n",
       "1      1   \n",
       "2      2   \n",
       "3      3   \n",
       "4      0   \n",
       "\n",
       "                                                                                               urls  \\\n",
       "0                                               https://www.psychologytoday.com/basics/spirituality   \n",
       "1  https://www.indeed.com/career-advice/career-development/improve-your-personal-development-skills   \n",
       "2                                                           https://en.wikipedia.org/wiki/Education   \n",
       "3                                                 https://www.keepinspiring.me/motivational-quotes/   \n",
       "4                                                   https://medlineplus.gov/ency/article/003211.htm   \n",
       "\n",
       "  wanted  \n",
       "0      y  \n",
       "1      y  \n",
       "2      y  \n",
       "3      y  \n",
       "4      n  "
      ]
     },
     "execution_count": 25,
     "metadata": {},
     "output_type": "execute_result"
    }
   ],
   "source": [
    "articles_df_copy = articles_df.reset_index()\n",
    "articles_df_copy"
   ]
  },
  {
   "cell_type": "code",
   "execution_count": 26,
   "id": "f2311e48",
   "metadata": {},
   "outputs": [
    {
     "data": {
      "text/html": [
       "<div>\n",
       "<style scoped>\n",
       "    .dataframe tbody tr th:only-of-type {\n",
       "        vertical-align: middle;\n",
       "    }\n",
       "\n",
       "    .dataframe tbody tr th {\n",
       "        vertical-align: top;\n",
       "    }\n",
       "\n",
       "    .dataframe thead th {\n",
       "        text-align: right;\n",
       "    }\n",
       "</style>\n",
       "<table border=\"1\" class=\"dataframe\">\n",
       "  <thead>\n",
       "    <tr style=\"text-align: right;\">\n",
       "      <th></th>\n",
       "      <th>urls</th>\n",
       "      <th>wanted</th>\n",
       "    </tr>\n",
       "  </thead>\n",
       "  <tbody>\n",
       "    <tr>\n",
       "      <th>0</th>\n",
       "      <td>https://www.psychologytoday.com/basics/spirituality</td>\n",
       "      <td>y</td>\n",
       "    </tr>\n",
       "    <tr>\n",
       "      <th>1</th>\n",
       "      <td>https://www.indeed.com/career-advice/career-development/improve-your-personal-development-skills</td>\n",
       "      <td>y</td>\n",
       "    </tr>\n",
       "    <tr>\n",
       "      <th>2</th>\n",
       "      <td>https://en.wikipedia.org/wiki/Education</td>\n",
       "      <td>y</td>\n",
       "    </tr>\n",
       "    <tr>\n",
       "      <th>3</th>\n",
       "      <td>https://www.keepinspiring.me/motivational-quotes/</td>\n",
       "      <td>y</td>\n",
       "    </tr>\n",
       "    <tr>\n",
       "      <th>4</th>\n",
       "      <td>https://medlineplus.gov/ency/article/003211.htm</td>\n",
       "      <td>n</td>\n",
       "    </tr>\n",
       "  </tbody>\n",
       "</table>\n",
       "</div>"
      ],
      "text/plain": [
       "                                                                                               urls  \\\n",
       "0                                               https://www.psychologytoday.com/basics/spirituality   \n",
       "1  https://www.indeed.com/career-advice/career-development/improve-your-personal-development-skills   \n",
       "2                                                           https://en.wikipedia.org/wiki/Education   \n",
       "3                                                 https://www.keepinspiring.me/motivational-quotes/   \n",
       "4                                                   https://medlineplus.gov/ency/article/003211.htm   \n",
       "\n",
       "  wanted  \n",
       "0      y  \n",
       "1      y  \n",
       "2      y  \n",
       "3      y  \n",
       "4      n  "
      ]
     },
     "execution_count": 26,
     "metadata": {},
     "output_type": "execute_result"
    }
   ],
   "source": [
    "articles_df = articles_df_copy.drop(['index'], axis = 1)\n",
    "articles_df"
   ]
  },
  {
   "cell_type": "code",
   "execution_count": null,
   "id": "a927c515",
   "metadata": {},
   "outputs": [],
   "source": []
  }
 ],
 "metadata": {
  "kernelspec": {
   "display_name": "Python 3",
   "language": "python",
   "name": "python3"
  },
  "language_info": {
   "codemirror_mode": {
    "name": "ipython",
    "version": 3
   },
   "file_extension": ".py",
   "mimetype": "text/x-python",
   "name": "python",
   "nbconvert_exporter": "python",
   "pygments_lexer": "ipython3",
   "version": "3.8.8"
  }
 },
 "nbformat": 4,
 "nbformat_minor": 5
}
